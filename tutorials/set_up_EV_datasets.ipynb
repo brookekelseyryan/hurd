{
 "cells": [
  {
   "cell_type": "code",
   "execution_count": null,
   "metadata": {
    "collapsed": true
   },
   "outputs": [],
   "source": [
    "import numpy as np\n",
    "import pandas as pd\n",
    "\n",
    "import matplotlib.pyplot as plt\n",
    "import seaborn as sns\n",
    "import os\n",
    "import math\n",
    "from hurd.dataset import Dataset\n",
    "from hurd.internal_datasets import  get_dicts_from_pd\n",
    "sns.set_context(\"notebook\")"
   ]
  },
  {
   "cell_type": "markdown",
   "source": [
    "## Loading the data\n",
    "First, let's load the original dataset."
   ],
   "metadata": {
    "collapsed": false
   }
  },
  {
   "cell_type": "code",
   "execution_count": null,
   "outputs": [],
   "source": [
    "c13k_fp = \"../c13k_selections.csv\"\n",
    "c13k = pd.read_csv(c13k_fp)\n",
    "\n",
    "with pd.option_context('display.max_columns', None):\n",
    "    display(c13k)\n",
    "\n"
   ],
   "metadata": {
    "collapsed": false,
    "pycharm": {
     "name": "#%%\n"
    }
   }
  },
  {
   "cell_type": "markdown",
   "source": [
    "Now, we'll load in the actual gamble problems (which was not included in the original dataset) and we will join the\n",
    "two tables together for clarity."
   ],
   "metadata": {
    "collapsed": false
   }
  },
  {
   "cell_type": "code",
   "execution_count": null,
   "outputs": [],
   "source": [
    "c13k_problems = pd.read_json(\"../c13k_problems.json\", orient='index')\n",
    "c13k_problems"
   ],
   "metadata": {
    "collapsed": false,
    "pycharm": {
     "name": "#%%\n"
    }
   }
  },
  {
   "cell_type": "code",
   "execution_count": null,
   "outputs": [],
   "source": [
    "# join the gamble payout probability information against the entries in c13k\n",
    "c13k_w_g = c13k.join(c13k_problems, how=\"left\")\n",
    "\n",
    "with pd.option_context('display.max_columns', None):\n",
    "    display(c13k_w_g)"
   ],
   "metadata": {
    "collapsed": false,
    "pycharm": {
     "name": "#%%\n"
    }
   }
  },
  {
   "cell_type": "code",
   "execution_count": null,
   "outputs": [],
   "source": [
    "# now we've gotta just have the ones WITH amb and NO fb\n",
    "c13k_w_g_no_fb = c13k_w_g[c13k_w_g.Feedback == False]\n",
    "c13k_w_g_no_fb_amb = c13k_w_g_no_fb[c13k_w_g_no_fb.Amb == True]\n",
    "display(c13k_w_g_no_fb_amb)"
   ],
   "metadata": {
    "collapsed": false,
    "pycharm": {
     "name": "#%%\n"
    }
   }
  },
  {
   "cell_type": "code",
   "execution_count": null,
   "outputs": [],
   "source": [
    "# now I need to get the different values uhhgh\n",
    "gamble_dict, targets = get_dicts_from_pd(c13k_w_g_no_fb_amb)"
   ],
   "metadata": {
    "collapsed": false,
    "pycharm": {
     "name": "#%%\n"
    }
   }
  },
  {
   "cell_type": "code",
   "execution_count": null,
   "outputs": [],
   "source": [
    "gamble_dict"
   ],
   "metadata": {
    "collapsed": false,
    "pycharm": {
     "name": "#%%\n"
    }
   }
  },
  {
   "cell_type": "code",
   "execution_count": null,
   "outputs": [],
   "source": [
    "targets"
   ],
   "metadata": {
    "collapsed": false,
    "pycharm": {
     "name": "#%%\n"
    }
   }
  },
  {
   "cell_type": "code",
   "execution_count": null,
   "outputs": [],
   "source": [
    "# okay so now lets make a HURD dataset\n",
    "from hurd.dataset import Dataset\n",
    "\n",
    "data_c13k_amb_no_fb = Dataset(dataset_id=\"data_c13k_amb_no_fb\")\n",
    "data_c13k_amb_no_fb.from_dict(gamble_dict, targets=targets)"
   ],
   "metadata": {
    "collapsed": false,
    "pycharm": {
     "name": "#%%\n"
    }
   }
  },
  {
   "cell_type": "code",
   "execution_count": null,
   "outputs": [],
   "source": [
    "data_c13k_amb_no_fb"
   ],
   "metadata": {
    "collapsed": false,
    "pycharm": {
     "name": "#%%\n"
    }
   }
  },
  {
   "cell_type": "code",
   "execution_count": null,
   "outputs": [],
   "source": [
    "data_c13k_amb_no_fb.retarget_with_is_B_highest_EV()\n",
    "data_c13k_amb_no_fb.save(\"/Users/brookeryan/Developer/hurd2/hurd/hurd/datasets/data_c13k_amb_no_fb\")"
   ],
   "metadata": {
    "collapsed": false,
    "pycharm": {
     "name": "#%%\n"
    }
   }
  },
  {
   "cell_type": "markdown",
   "source": [],
   "metadata": {
    "collapsed": false
   }
  }
 ],
 "metadata": {
  "kernelspec": {
   "display_name": "Python 3",
   "language": "python",
   "name": "python3"
  },
  "language_info": {
   "codemirror_mode": {
    "name": "ipython",
    "version": 2
   },
   "file_extension": ".py",
   "mimetype": "text/x-python",
   "name": "python",
   "nbconvert_exporter": "python",
   "pygments_lexer": "ipython2",
   "version": "2.7.6"
  }
 },
 "nbformat": 4,
 "nbformat_minor": 0
}